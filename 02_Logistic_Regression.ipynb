{
 "cells": [
  {
   "cell_type": "markdown",
   "metadata": {},
   "source": [
    "# 로지스틱 회귀 Logistic Regression"
   ]
  },
  {
   "cell_type": "markdown",
   "metadata": {},
   "source": [
    "- 선형 회귀와 동일하게 선형 방정식을 학습\n",
    "- 분류 문제를 해결하기 위해 사용하는 통계적 방법\n",
    "- 결과 변수가 0 또는 1인 경우에 사용\n",
    "\n",
    "### 시그모이드 함수 Sigmoid Function 또는 로지스틱 함수 Logistic Fuction\n",
    "- 종속 변수를 0과 1 사이의 확률로 변환하기 위해 사용\n",
    "- 종속 변수가 아주 큰 음수일 때 0, 종속 변수가 아주 큰 양수일 때 1이 되도록 함\n",
    "- 이를 통해 선형 결합의 값을 확률로 해석"
   ]
  },
  {
   "cell_type": "code",
   "execution_count": 1,
   "metadata": {},
   "outputs": [],
   "source": [
    "import pandas as pd\n",
    "import numpy as np"
   ]
  },
  {
   "cell_type": "markdown",
   "metadata": {},
   "source": [
    "### decision funvction()\n",
    "- 로지스틱 회귀에서 각 샘플에 대해 decision boundary로부터의 거리를 반환\n",
    "- 각 샘플이 양성 클래서에 속할지 음성 클래스에 속할지 결정\n",
    "- decision function의 결과는 위 가중치와 편향을 반영한 방정식의 결과를 종속변수로 반환\n",
    "- 방정식 결과의 종속 변수가 클수록 양성 클래스일 가능성이 높아지고, 작을수록 음성 클래스에 속할 가능성이 높아짐"
   ]
  },
  {
   "cell_type": "code",
   "execution_count": 3,
   "metadata": {},
   "outputs": [
    {
     "data": {
      "text/html": [
       "<div>\n",
       "<style scoped>\n",
       "    .dataframe tbody tr th:only-of-type {\n",
       "        vertical-align: middle;\n",
       "    }\n",
       "\n",
       "    .dataframe tbody tr th {\n",
       "        vertical-align: top;\n",
       "    }\n",
       "\n",
       "    .dataframe thead th {\n",
       "        text-align: right;\n",
       "    }\n",
       "</style>\n",
       "<table border=\"1\" class=\"dataframe\">\n",
       "  <thead>\n",
       "    <tr style=\"text-align: right;\">\n",
       "      <th></th>\n",
       "      <th>Species</th>\n",
       "      <th>Weight</th>\n",
       "      <th>Length</th>\n",
       "      <th>Diagonal</th>\n",
       "      <th>Height</th>\n",
       "      <th>Width</th>\n",
       "    </tr>\n",
       "  </thead>\n",
       "  <tbody>\n",
       "    <tr>\n",
       "      <th>0</th>\n",
       "      <td>Bream</td>\n",
       "      <td>242.0</td>\n",
       "      <td>25.4</td>\n",
       "      <td>30.0</td>\n",
       "      <td>11.5200</td>\n",
       "      <td>4.0200</td>\n",
       "    </tr>\n",
       "    <tr>\n",
       "      <th>1</th>\n",
       "      <td>Bream</td>\n",
       "      <td>290.0</td>\n",
       "      <td>26.3</td>\n",
       "      <td>31.2</td>\n",
       "      <td>12.4800</td>\n",
       "      <td>4.3056</td>\n",
       "    </tr>\n",
       "    <tr>\n",
       "      <th>2</th>\n",
       "      <td>Bream</td>\n",
       "      <td>340.0</td>\n",
       "      <td>26.5</td>\n",
       "      <td>31.1</td>\n",
       "      <td>12.3778</td>\n",
       "      <td>4.6961</td>\n",
       "    </tr>\n",
       "    <tr>\n",
       "      <th>3</th>\n",
       "      <td>Bream</td>\n",
       "      <td>363.0</td>\n",
       "      <td>29.0</td>\n",
       "      <td>33.5</td>\n",
       "      <td>12.7300</td>\n",
       "      <td>4.4555</td>\n",
       "    </tr>\n",
       "    <tr>\n",
       "      <th>4</th>\n",
       "      <td>Bream</td>\n",
       "      <td>430.0</td>\n",
       "      <td>29.0</td>\n",
       "      <td>34.0</td>\n",
       "      <td>12.4440</td>\n",
       "      <td>5.1340</td>\n",
       "    </tr>\n",
       "    <tr>\n",
       "      <th>...</th>\n",
       "      <td>...</td>\n",
       "      <td>...</td>\n",
       "      <td>...</td>\n",
       "      <td>...</td>\n",
       "      <td>...</td>\n",
       "      <td>...</td>\n",
       "    </tr>\n",
       "    <tr>\n",
       "      <th>154</th>\n",
       "      <td>Smelt</td>\n",
       "      <td>12.2</td>\n",
       "      <td>12.2</td>\n",
       "      <td>13.4</td>\n",
       "      <td>2.0904</td>\n",
       "      <td>1.3936</td>\n",
       "    </tr>\n",
       "    <tr>\n",
       "      <th>155</th>\n",
       "      <td>Smelt</td>\n",
       "      <td>13.4</td>\n",
       "      <td>12.4</td>\n",
       "      <td>13.5</td>\n",
       "      <td>2.4300</td>\n",
       "      <td>1.2690</td>\n",
       "    </tr>\n",
       "    <tr>\n",
       "      <th>156</th>\n",
       "      <td>Smelt</td>\n",
       "      <td>12.2</td>\n",
       "      <td>13.0</td>\n",
       "      <td>13.8</td>\n",
       "      <td>2.2770</td>\n",
       "      <td>1.2558</td>\n",
       "    </tr>\n",
       "    <tr>\n",
       "      <th>157</th>\n",
       "      <td>Smelt</td>\n",
       "      <td>19.7</td>\n",
       "      <td>14.3</td>\n",
       "      <td>15.2</td>\n",
       "      <td>2.8728</td>\n",
       "      <td>2.0672</td>\n",
       "    </tr>\n",
       "    <tr>\n",
       "      <th>158</th>\n",
       "      <td>Smelt</td>\n",
       "      <td>19.9</td>\n",
       "      <td>15.0</td>\n",
       "      <td>16.2</td>\n",
       "      <td>2.9322</td>\n",
       "      <td>1.8792</td>\n",
       "    </tr>\n",
       "  </tbody>\n",
       "</table>\n",
       "<p>159 rows × 6 columns</p>\n",
       "</div>"
      ],
      "text/plain": [
       "    Species  Weight  Length  Diagonal   Height   Width\n",
       "0     Bream   242.0    25.4      30.0  11.5200  4.0200\n",
       "1     Bream   290.0    26.3      31.2  12.4800  4.3056\n",
       "2     Bream   340.0    26.5      31.1  12.3778  4.6961\n",
       "3     Bream   363.0    29.0      33.5  12.7300  4.4555\n",
       "4     Bream   430.0    29.0      34.0  12.4440  5.1340\n",
       "..      ...     ...     ...       ...      ...     ...\n",
       "154   Smelt    12.2    12.2      13.4   2.0904  1.3936\n",
       "155   Smelt    13.4    12.4      13.5   2.4300  1.2690\n",
       "156   Smelt    12.2    13.0      13.8   2.2770  1.2558\n",
       "157   Smelt    19.7    14.3      15.2   2.8728  2.0672\n",
       "158   Smelt    19.9    15.0      16.2   2.9322  1.8792\n",
       "\n",
       "[159 rows x 6 columns]"
      ]
     },
     "execution_count": 3,
     "metadata": {},
     "output_type": "execute_result"
    }
   ],
   "source": [
    "fish = pd.read_csv(r'https://bit.ly/fish_csv')\n",
    "fish"
   ]
  },
  {
   "cell_type": "code",
   "execution_count": 8,
   "metadata": {},
   "outputs": [
    {
     "name": "stdout",
     "output_type": "stream",
     "text": [
      "['Bream' 'Bream' 'Bream']\n",
      "[[242.      25.4     30.      11.52     4.02  ]\n",
      " [290.      26.3     31.2     12.48     4.3056]\n",
      " [340.      26.5     31.1     12.3778   4.6961]]\n"
     ]
    }
   ],
   "source": [
    "# 데이터 저장\n",
    "fish_target = fish['Species'].to_numpy()\n",
    "print(fish_target[:3])\n",
    "\n",
    "fish_input = fish[['Weight', 'Length', 'Diagonal', 'Height', 'Width']].to_numpy()\n",
    "print(fish_input[:3])"
   ]
  },
  {
   "cell_type": "code",
   "execution_count": 9,
   "metadata": {},
   "outputs": [],
   "source": [
    "# 훈련 데이터, 테스트 데이터 분리\n",
    "from sklearn.model_selection import train_test_split\n",
    "train_input, test_input, train_target, test_target = train_test_split(fish_input, fish_target, random_state=42)"
   ]
  },
  {
   "cell_type": "markdown",
   "metadata": {},
   "source": [
    "### Stadard Scaler 하는 이유\n",
    "- feature들의 단위가 다르기 때문에 동일한 스케일로 맞춰서 모델 성능 향상을 꿰함 "
   ]
  },
  {
   "cell_type": "code",
   "execution_count": 10,
   "metadata": {},
   "outputs": [],
   "source": [
    "# 데이터 전처리\n",
    "from sklearn.preprocessing import StandardScaler\n",
    "ss = StandardScaler()\n",
    "ss.fit(train_input)\n",
    "train_scaled = ss.transform(train_input)\n",
    "test_scaled = ss.transform(test_input)"
   ]
  },
  {
   "cell_type": "code",
   "execution_count": 11,
   "metadata": {},
   "outputs": [
    {
     "name": "stdout",
     "output_type": "stream",
     "text": [
      "[[ 0.91965782  0.60943175  0.81041221  1.85194896  1.00075672]\n",
      " [ 0.30041219  1.54653445  1.45316551 -0.46981663  0.27291745]\n",
      " [-1.0858536  -1.68646987 -1.70848587 -1.70159849 -2.0044758 ]]\n",
      "[[-0.88741352 -0.91804565 -1.03098914 -0.90464451 -0.80762518]\n",
      " [-1.06924656 -1.50842035 -1.54345461 -1.58849582 -1.93803151]\n",
      " [-0.54401367  0.35641402  0.30663259 -0.8135697  -0.65388895]]\n"
     ]
    }
   ],
   "source": [
    "print(train_scaled[:3])\n",
    "print(test_scaled[:3])"
   ]
  },
  {
   "cell_type": "code",
   "execution_count": 13,
   "metadata": {},
   "outputs": [],
   "source": [
    "# Logistic Regression을 이용해 이진 분류 수행\n",
    "# 데이터 필터링\n",
    "bream_smelt_indexes = (train_target == 'Bream') | (train_target == 'Smelt')\n",
    "train_bream_smelt = train_scaled[bream_smelt_indexes]\n",
    "target_bream_smelt = train_target[bream_smelt_indexes]\n",
    "# bream, smelt 일 때만, Treu 그외는 False"
   ]
  },
  {
   "cell_type": "code",
   "execution_count": 14,
   "metadata": {},
   "outputs": [
    {
     "data": {
      "text/html": [
       "<style>#sk-container-id-1 {\n",
       "  /* Definition of color scheme common for light and dark mode */\n",
       "  --sklearn-color-text: black;\n",
       "  --sklearn-color-line: gray;\n",
       "  /* Definition of color scheme for unfitted estimators */\n",
       "  --sklearn-color-unfitted-level-0: #fff5e6;\n",
       "  --sklearn-color-unfitted-level-1: #f6e4d2;\n",
       "  --sklearn-color-unfitted-level-2: #ffe0b3;\n",
       "  --sklearn-color-unfitted-level-3: chocolate;\n",
       "  /* Definition of color scheme for fitted estimators */\n",
       "  --sklearn-color-fitted-level-0: #f0f8ff;\n",
       "  --sklearn-color-fitted-level-1: #d4ebff;\n",
       "  --sklearn-color-fitted-level-2: #b3dbfd;\n",
       "  --sklearn-color-fitted-level-3: cornflowerblue;\n",
       "\n",
       "  /* Specific color for light theme */\n",
       "  --sklearn-color-text-on-default-background: var(--sg-text-color, var(--theme-code-foreground, var(--jp-content-font-color1, black)));\n",
       "  --sklearn-color-background: var(--sg-background-color, var(--theme-background, var(--jp-layout-color0, white)));\n",
       "  --sklearn-color-border-box: var(--sg-text-color, var(--theme-code-foreground, var(--jp-content-font-color1, black)));\n",
       "  --sklearn-color-icon: #696969;\n",
       "\n",
       "  @media (prefers-color-scheme: dark) {\n",
       "    /* Redefinition of color scheme for dark theme */\n",
       "    --sklearn-color-text-on-default-background: var(--sg-text-color, var(--theme-code-foreground, var(--jp-content-font-color1, white)));\n",
       "    --sklearn-color-background: var(--sg-background-color, var(--theme-background, var(--jp-layout-color0, #111)));\n",
       "    --sklearn-color-border-box: var(--sg-text-color, var(--theme-code-foreground, var(--jp-content-font-color1, white)));\n",
       "    --sklearn-color-icon: #878787;\n",
       "  }\n",
       "}\n",
       "\n",
       "#sk-container-id-1 {\n",
       "  color: var(--sklearn-color-text);\n",
       "}\n",
       "\n",
       "#sk-container-id-1 pre {\n",
       "  padding: 0;\n",
       "}\n",
       "\n",
       "#sk-container-id-1 input.sk-hidden--visually {\n",
       "  border: 0;\n",
       "  clip: rect(1px 1px 1px 1px);\n",
       "  clip: rect(1px, 1px, 1px, 1px);\n",
       "  height: 1px;\n",
       "  margin: -1px;\n",
       "  overflow: hidden;\n",
       "  padding: 0;\n",
       "  position: absolute;\n",
       "  width: 1px;\n",
       "}\n",
       "\n",
       "#sk-container-id-1 div.sk-dashed-wrapped {\n",
       "  border: 1px dashed var(--sklearn-color-line);\n",
       "  margin: 0 0.4em 0.5em 0.4em;\n",
       "  box-sizing: border-box;\n",
       "  padding-bottom: 0.4em;\n",
       "  background-color: var(--sklearn-color-background);\n",
       "}\n",
       "\n",
       "#sk-container-id-1 div.sk-container {\n",
       "  /* jupyter's `normalize.less` sets `[hidden] { display: none; }`\n",
       "     but bootstrap.min.css set `[hidden] { display: none !important; }`\n",
       "     so we also need the `!important` here to be able to override the\n",
       "     default hidden behavior on the sphinx rendered scikit-learn.org.\n",
       "     See: https://github.com/scikit-learn/scikit-learn/issues/21755 */\n",
       "  display: inline-block !important;\n",
       "  position: relative;\n",
       "}\n",
       "\n",
       "#sk-container-id-1 div.sk-text-repr-fallback {\n",
       "  display: none;\n",
       "}\n",
       "\n",
       "div.sk-parallel-item,\n",
       "div.sk-serial,\n",
       "div.sk-item {\n",
       "  /* draw centered vertical line to link estimators */\n",
       "  background-image: linear-gradient(var(--sklearn-color-text-on-default-background), var(--sklearn-color-text-on-default-background));\n",
       "  background-size: 2px 100%;\n",
       "  background-repeat: no-repeat;\n",
       "  background-position: center center;\n",
       "}\n",
       "\n",
       "/* Parallel-specific style estimator block */\n",
       "\n",
       "#sk-container-id-1 div.sk-parallel-item::after {\n",
       "  content: \"\";\n",
       "  width: 100%;\n",
       "  border-bottom: 2px solid var(--sklearn-color-text-on-default-background);\n",
       "  flex-grow: 1;\n",
       "}\n",
       "\n",
       "#sk-container-id-1 div.sk-parallel {\n",
       "  display: flex;\n",
       "  align-items: stretch;\n",
       "  justify-content: center;\n",
       "  background-color: var(--sklearn-color-background);\n",
       "  position: relative;\n",
       "}\n",
       "\n",
       "#sk-container-id-1 div.sk-parallel-item {\n",
       "  display: flex;\n",
       "  flex-direction: column;\n",
       "}\n",
       "\n",
       "#sk-container-id-1 div.sk-parallel-item:first-child::after {\n",
       "  align-self: flex-end;\n",
       "  width: 50%;\n",
       "}\n",
       "\n",
       "#sk-container-id-1 div.sk-parallel-item:last-child::after {\n",
       "  align-self: flex-start;\n",
       "  width: 50%;\n",
       "}\n",
       "\n",
       "#sk-container-id-1 div.sk-parallel-item:only-child::after {\n",
       "  width: 0;\n",
       "}\n",
       "\n",
       "/* Serial-specific style estimator block */\n",
       "\n",
       "#sk-container-id-1 div.sk-serial {\n",
       "  display: flex;\n",
       "  flex-direction: column;\n",
       "  align-items: center;\n",
       "  background-color: var(--sklearn-color-background);\n",
       "  padding-right: 1em;\n",
       "  padding-left: 1em;\n",
       "}\n",
       "\n",
       "\n",
       "/* Toggleable style: style used for estimator/Pipeline/ColumnTransformer box that is\n",
       "clickable and can be expanded/collapsed.\n",
       "- Pipeline and ColumnTransformer use this feature and define the default style\n",
       "- Estimators will overwrite some part of the style using the `sk-estimator` class\n",
       "*/\n",
       "\n",
       "/* Pipeline and ColumnTransformer style (default) */\n",
       "\n",
       "#sk-container-id-1 div.sk-toggleable {\n",
       "  /* Default theme specific background. It is overwritten whether we have a\n",
       "  specific estimator or a Pipeline/ColumnTransformer */\n",
       "  background-color: var(--sklearn-color-background);\n",
       "}\n",
       "\n",
       "/* Toggleable label */\n",
       "#sk-container-id-1 label.sk-toggleable__label {\n",
       "  cursor: pointer;\n",
       "  display: block;\n",
       "  width: 100%;\n",
       "  margin-bottom: 0;\n",
       "  padding: 0.5em;\n",
       "  box-sizing: border-box;\n",
       "  text-align: center;\n",
       "}\n",
       "\n",
       "#sk-container-id-1 label.sk-toggleable__label-arrow:before {\n",
       "  /* Arrow on the left of the label */\n",
       "  content: \"▸\";\n",
       "  float: left;\n",
       "  margin-right: 0.25em;\n",
       "  color: var(--sklearn-color-icon);\n",
       "}\n",
       "\n",
       "#sk-container-id-1 label.sk-toggleable__label-arrow:hover:before {\n",
       "  color: var(--sklearn-color-text);\n",
       "}\n",
       "\n",
       "/* Toggleable content - dropdown */\n",
       "\n",
       "#sk-container-id-1 div.sk-toggleable__content {\n",
       "  max-height: 0;\n",
       "  max-width: 0;\n",
       "  overflow: hidden;\n",
       "  text-align: left;\n",
       "  /* unfitted */\n",
       "  background-color: var(--sklearn-color-unfitted-level-0);\n",
       "}\n",
       "\n",
       "#sk-container-id-1 div.sk-toggleable__content.fitted {\n",
       "  /* fitted */\n",
       "  background-color: var(--sklearn-color-fitted-level-0);\n",
       "}\n",
       "\n",
       "#sk-container-id-1 div.sk-toggleable__content pre {\n",
       "  margin: 0.2em;\n",
       "  border-radius: 0.25em;\n",
       "  color: var(--sklearn-color-text);\n",
       "  /* unfitted */\n",
       "  background-color: var(--sklearn-color-unfitted-level-0);\n",
       "}\n",
       "\n",
       "#sk-container-id-1 div.sk-toggleable__content.fitted pre {\n",
       "  /* unfitted */\n",
       "  background-color: var(--sklearn-color-fitted-level-0);\n",
       "}\n",
       "\n",
       "#sk-container-id-1 input.sk-toggleable__control:checked~div.sk-toggleable__content {\n",
       "  /* Expand drop-down */\n",
       "  max-height: 200px;\n",
       "  max-width: 100%;\n",
       "  overflow: auto;\n",
       "}\n",
       "\n",
       "#sk-container-id-1 input.sk-toggleable__control:checked~label.sk-toggleable__label-arrow:before {\n",
       "  content: \"▾\";\n",
       "}\n",
       "\n",
       "/* Pipeline/ColumnTransformer-specific style */\n",
       "\n",
       "#sk-container-id-1 div.sk-label input.sk-toggleable__control:checked~label.sk-toggleable__label {\n",
       "  color: var(--sklearn-color-text);\n",
       "  background-color: var(--sklearn-color-unfitted-level-2);\n",
       "}\n",
       "\n",
       "#sk-container-id-1 div.sk-label.fitted input.sk-toggleable__control:checked~label.sk-toggleable__label {\n",
       "  background-color: var(--sklearn-color-fitted-level-2);\n",
       "}\n",
       "\n",
       "/* Estimator-specific style */\n",
       "\n",
       "/* Colorize estimator box */\n",
       "#sk-container-id-1 div.sk-estimator input.sk-toggleable__control:checked~label.sk-toggleable__label {\n",
       "  /* unfitted */\n",
       "  background-color: var(--sklearn-color-unfitted-level-2);\n",
       "}\n",
       "\n",
       "#sk-container-id-1 div.sk-estimator.fitted input.sk-toggleable__control:checked~label.sk-toggleable__label {\n",
       "  /* fitted */\n",
       "  background-color: var(--sklearn-color-fitted-level-2);\n",
       "}\n",
       "\n",
       "#sk-container-id-1 div.sk-label label.sk-toggleable__label,\n",
       "#sk-container-id-1 div.sk-label label {\n",
       "  /* The background is the default theme color */\n",
       "  color: var(--sklearn-color-text-on-default-background);\n",
       "}\n",
       "\n",
       "/* On hover, darken the color of the background */\n",
       "#sk-container-id-1 div.sk-label:hover label.sk-toggleable__label {\n",
       "  color: var(--sklearn-color-text);\n",
       "  background-color: var(--sklearn-color-unfitted-level-2);\n",
       "}\n",
       "\n",
       "/* Label box, darken color on hover, fitted */\n",
       "#sk-container-id-1 div.sk-label.fitted:hover label.sk-toggleable__label.fitted {\n",
       "  color: var(--sklearn-color-text);\n",
       "  background-color: var(--sklearn-color-fitted-level-2);\n",
       "}\n",
       "\n",
       "/* Estimator label */\n",
       "\n",
       "#sk-container-id-1 div.sk-label label {\n",
       "  font-family: monospace;\n",
       "  font-weight: bold;\n",
       "  display: inline-block;\n",
       "  line-height: 1.2em;\n",
       "}\n",
       "\n",
       "#sk-container-id-1 div.sk-label-container {\n",
       "  text-align: center;\n",
       "}\n",
       "\n",
       "/* Estimator-specific */\n",
       "#sk-container-id-1 div.sk-estimator {\n",
       "  font-family: monospace;\n",
       "  border: 1px dotted var(--sklearn-color-border-box);\n",
       "  border-radius: 0.25em;\n",
       "  box-sizing: border-box;\n",
       "  margin-bottom: 0.5em;\n",
       "  /* unfitted */\n",
       "  background-color: var(--sklearn-color-unfitted-level-0);\n",
       "}\n",
       "\n",
       "#sk-container-id-1 div.sk-estimator.fitted {\n",
       "  /* fitted */\n",
       "  background-color: var(--sklearn-color-fitted-level-0);\n",
       "}\n",
       "\n",
       "/* on hover */\n",
       "#sk-container-id-1 div.sk-estimator:hover {\n",
       "  /* unfitted */\n",
       "  background-color: var(--sklearn-color-unfitted-level-2);\n",
       "}\n",
       "\n",
       "#sk-container-id-1 div.sk-estimator.fitted:hover {\n",
       "  /* fitted */\n",
       "  background-color: var(--sklearn-color-fitted-level-2);\n",
       "}\n",
       "\n",
       "/* Specification for estimator info (e.g. \"i\" and \"?\") */\n",
       "\n",
       "/* Common style for \"i\" and \"?\" */\n",
       "\n",
       ".sk-estimator-doc-link,\n",
       "a:link.sk-estimator-doc-link,\n",
       "a:visited.sk-estimator-doc-link {\n",
       "  float: right;\n",
       "  font-size: smaller;\n",
       "  line-height: 1em;\n",
       "  font-family: monospace;\n",
       "  background-color: var(--sklearn-color-background);\n",
       "  border-radius: 1em;\n",
       "  height: 1em;\n",
       "  width: 1em;\n",
       "  text-decoration: none !important;\n",
       "  margin-left: 1ex;\n",
       "  /* unfitted */\n",
       "  border: var(--sklearn-color-unfitted-level-1) 1pt solid;\n",
       "  color: var(--sklearn-color-unfitted-level-1);\n",
       "}\n",
       "\n",
       ".sk-estimator-doc-link.fitted,\n",
       "a:link.sk-estimator-doc-link.fitted,\n",
       "a:visited.sk-estimator-doc-link.fitted {\n",
       "  /* fitted */\n",
       "  border: var(--sklearn-color-fitted-level-1) 1pt solid;\n",
       "  color: var(--sklearn-color-fitted-level-1);\n",
       "}\n",
       "\n",
       "/* On hover */\n",
       "div.sk-estimator:hover .sk-estimator-doc-link:hover,\n",
       ".sk-estimator-doc-link:hover,\n",
       "div.sk-label-container:hover .sk-estimator-doc-link:hover,\n",
       ".sk-estimator-doc-link:hover {\n",
       "  /* unfitted */\n",
       "  background-color: var(--sklearn-color-unfitted-level-3);\n",
       "  color: var(--sklearn-color-background);\n",
       "  text-decoration: none;\n",
       "}\n",
       "\n",
       "div.sk-estimator.fitted:hover .sk-estimator-doc-link.fitted:hover,\n",
       ".sk-estimator-doc-link.fitted:hover,\n",
       "div.sk-label-container:hover .sk-estimator-doc-link.fitted:hover,\n",
       ".sk-estimator-doc-link.fitted:hover {\n",
       "  /* fitted */\n",
       "  background-color: var(--sklearn-color-fitted-level-3);\n",
       "  color: var(--sklearn-color-background);\n",
       "  text-decoration: none;\n",
       "}\n",
       "\n",
       "/* Span, style for the box shown on hovering the info icon */\n",
       ".sk-estimator-doc-link span {\n",
       "  display: none;\n",
       "  z-index: 9999;\n",
       "  position: relative;\n",
       "  font-weight: normal;\n",
       "  right: .2ex;\n",
       "  padding: .5ex;\n",
       "  margin: .5ex;\n",
       "  width: min-content;\n",
       "  min-width: 20ex;\n",
       "  max-width: 50ex;\n",
       "  color: var(--sklearn-color-text);\n",
       "  box-shadow: 2pt 2pt 4pt #999;\n",
       "  /* unfitted */\n",
       "  background: var(--sklearn-color-unfitted-level-0);\n",
       "  border: .5pt solid var(--sklearn-color-unfitted-level-3);\n",
       "}\n",
       "\n",
       ".sk-estimator-doc-link.fitted span {\n",
       "  /* fitted */\n",
       "  background: var(--sklearn-color-fitted-level-0);\n",
       "  border: var(--sklearn-color-fitted-level-3);\n",
       "}\n",
       "\n",
       ".sk-estimator-doc-link:hover span {\n",
       "  display: block;\n",
       "}\n",
       "\n",
       "/* \"?\"-specific style due to the `<a>` HTML tag */\n",
       "\n",
       "#sk-container-id-1 a.estimator_doc_link {\n",
       "  float: right;\n",
       "  font-size: 1rem;\n",
       "  line-height: 1em;\n",
       "  font-family: monospace;\n",
       "  background-color: var(--sklearn-color-background);\n",
       "  border-radius: 1rem;\n",
       "  height: 1rem;\n",
       "  width: 1rem;\n",
       "  text-decoration: none;\n",
       "  /* unfitted */\n",
       "  color: var(--sklearn-color-unfitted-level-1);\n",
       "  border: var(--sklearn-color-unfitted-level-1) 1pt solid;\n",
       "}\n",
       "\n",
       "#sk-container-id-1 a.estimator_doc_link.fitted {\n",
       "  /* fitted */\n",
       "  border: var(--sklearn-color-fitted-level-1) 1pt solid;\n",
       "  color: var(--sklearn-color-fitted-level-1);\n",
       "}\n",
       "\n",
       "/* On hover */\n",
       "#sk-container-id-1 a.estimator_doc_link:hover {\n",
       "  /* unfitted */\n",
       "  background-color: var(--sklearn-color-unfitted-level-3);\n",
       "  color: var(--sklearn-color-background);\n",
       "  text-decoration: none;\n",
       "}\n",
       "\n",
       "#sk-container-id-1 a.estimator_doc_link.fitted:hover {\n",
       "  /* fitted */\n",
       "  background-color: var(--sklearn-color-fitted-level-3);\n",
       "}\n",
       "</style><div id=\"sk-container-id-1\" class=\"sk-top-container\"><div class=\"sk-text-repr-fallback\"><pre>LogisticRegression()</pre><b>In a Jupyter environment, please rerun this cell to show the HTML representation or trust the notebook. <br />On GitHub, the HTML representation is unable to render, please try loading this page with nbviewer.org.</b></div><div class=\"sk-container\" hidden><div class=\"sk-item\"><div class=\"sk-estimator fitted sk-toggleable\"><input class=\"sk-toggleable__control sk-hidden--visually\" id=\"sk-estimator-id-1\" type=\"checkbox\" checked><label for=\"sk-estimator-id-1\" class=\"sk-toggleable__label fitted sk-toggleable__label-arrow fitted\">&nbsp;&nbsp;LogisticRegression<a class=\"sk-estimator-doc-link fitted\" rel=\"noreferrer\" target=\"_blank\" href=\"https://scikit-learn.org/1.4/modules/generated/sklearn.linear_model.LogisticRegression.html\">?<span>Documentation for LogisticRegression</span></a><span class=\"sk-estimator-doc-link fitted\">i<span>Fitted</span></span></label><div class=\"sk-toggleable__content fitted\"><pre>LogisticRegression()</pre></div> </div></div></div></div>"
      ],
      "text/plain": [
       "LogisticRegression()"
      ]
     },
     "execution_count": 14,
     "metadata": {},
     "output_type": "execute_result"
    }
   ],
   "source": [
    "# Logistic Regression 훈련\n",
    "from sklearn.linear_model import LogisticRegression\n",
    "lr = LogisticRegression()\n",
    "lr.fit(train_bream_smelt, target_bream_smelt)"
   ]
  },
  {
   "cell_type": "code",
   "execution_count": 15,
   "metadata": {},
   "outputs": [
    {
     "data": {
      "text/plain": [
       "array(['Bream', 'Smelt', 'Bream', 'Bream', 'Bream'], dtype=object)"
      ]
     },
     "execution_count": 15,
     "metadata": {},
     "output_type": "execute_result"
    }
   ],
   "source": [
    "# 훈련된 모델을 이용한 예측된 클래스 반환\n",
    "lr.predict(train_bream_smelt[:5])"
   ]
  },
  {
   "cell_type": "code",
   "execution_count": 17,
   "metadata": {},
   "outputs": [
    {
     "data": {
      "text/plain": [
       "array(['Bream', 'Smelt'], dtype=object)"
      ]
     },
     "execution_count": 17,
     "metadata": {},
     "output_type": "execute_result"
    }
   ],
   "source": [
    "# 학습한 클래스\n",
    "lr.classes_"
   ]
  },
  {
   "cell_type": "code",
   "execution_count": 16,
   "metadata": {},
   "outputs": [
    {
     "data": {
      "text/plain": [
       "array([[0.99760007, 0.00239993],\n",
       "       [0.02737325, 0.97262675],\n",
       "       [0.99486386, 0.00513614],\n",
       "       [0.98585047, 0.01414953],\n",
       "       [0.99767419, 0.00232581]])"
      ]
     },
     "execution_count": 16,
     "metadata": {},
     "output_type": "execute_result"
    }
   ],
   "source": [
    "# 입력 데이터에 대해 각 클래스에 속할 확률 반환\n",
    "lr.predict_proba(train_bream_smelt[:5])\n",
    "\n",
    "# 첫 행 : bream에 속할 확률\n",
    "# 두번째 행 : smelt에 속할 확률"
   ]
  },
  {
   "cell_type": "markdown",
   "metadata": {},
   "source": [
    "### 가중치가 여러개\n",
    "- 모델이 여러 특성을 기반으로 예측"
   ]
  },
  {
   "cell_type": "code",
   "execution_count": 19,
   "metadata": {},
   "outputs": [
    {
     "name": "stdout",
     "output_type": "stream",
     "text": [
      "가중치 : [[-0.40451732 -0.57582787 -0.66248158 -1.01329614 -0.73123131]]\n",
      "편향 : [-2.16172774]\n"
     ]
    }
   ],
   "source": [
    "print('가중치 :', lr.coef_)\n",
    "print('편향 :', lr.intercept_)"
   ]
  },
  {
   "cell_type": "code",
   "execution_count": 21,
   "metadata": {},
   "outputs": [
    {
     "data": {
      "text/plain": [
       "array([-6.02991358,  3.57043428, -5.26630496, -4.24382314, -6.06135688,\n",
       "        3.41099831, -3.58967782, -7.66931655, -4.31727007, -2.22341548,\n",
       "       -6.4698283 , -6.03601551, -5.77895847,  3.23601973, -7.81091675,\n",
       "        3.36381609,  2.51455071, -3.88828092, -7.39580986, -3.51427836,\n",
       "       -3.99094045, -4.17926154, -3.25374833, -5.0242727 , -4.23461336,\n",
       "        3.18456426, -5.44264864,  3.34182307,  3.40394191, -2.76321242,\n",
       "        2.48794425, -5.20693508, -4.77384768])"
      ]
     },
     "execution_count": 21,
     "metadata": {},
     "output_type": "execute_result"
    }
   ],
   "source": [
    "# decision function을 이용해 종속 변수 찾아보기\n",
    "decisions = lr.decision_function(train_bream_smelt)\n",
    "decisions"
   ]
  },
  {
   "cell_type": "code",
   "execution_count": 22,
   "metadata": {},
   "outputs": [
    {
     "data": {
      "text/plain": [
       "array([2.39992835e-03, 9.72626754e-01, 5.13613552e-03, 1.41495320e-02,\n",
       "       2.32581351e-03, 9.68046497e-01, 2.68655405e-02, 4.66718913e-04,\n",
       "       1.31607262e-02, 9.76673891e-02, 1.54709455e-03, 2.38536358e-03,\n",
       "       3.08240349e-03, 9.62167489e-01, 4.05122141e-04, 9.66554359e-01,\n",
       "       9.25155604e-01, 2.00694898e-02, 6.13442824e-04, 2.89086870e-02,\n",
       "       1.81469269e-02, 1.50789532e-02, 3.71924297e-02, 6.53340168e-03,\n",
       "       1.42785787e-02, 9.60249253e-01, 4.30935384e-03, 9.65836049e-01,\n",
       "       9.67827503e-01, 5.93447853e-02, 9.23292333e-01, 5.44858922e-03,\n",
       "       8.37704538e-03])"
      ]
     },
     "execution_count": 22,
     "metadata": {},
     "output_type": "execute_result"
    }
   ],
   "source": [
    "# signmoid F을 이용해 확률로 변환\n",
    "from scipy.special import expit\n",
    "expit(decisions)"
   ]
  },
  {
   "cell_type": "markdown",
   "metadata": {},
   "source": [
    "- lr.predict_proba의 두번째 열의 결과 동일"
   ]
  },
  {
   "cell_type": "markdown",
   "metadata": {},
   "source": [
    "### 로지스틱 회귀로 다중 분류 수행하기"
   ]
  },
  {
   "cell_type": "code",
   "execution_count": 23,
   "metadata": {},
   "outputs": [
    {
     "name": "stdout",
     "output_type": "stream",
     "text": [
      "0.9327731092436975\n",
      "0.925\n"
     ]
    }
   ],
   "source": [
    "# 모델 초기화\n",
    "# max_iter에서 반복 횟수를 지정하여 모델 훈련\n",
    "# 로지스틱 회귀의 규제를 완화하기 위해 숫자를 높임, C 로 설정\n",
    "lr = LogisticRegression(C = 20, max_iter=1000)\n",
    "\n",
    "# 모델 학습\n",
    "lr.fit(train_scaled, train_target)\n",
    "\n",
    "print(lr.score(train_scaled, train_target))\n",
    "print(lr.score(test_scaled, test_target))"
   ]
  },
  {
   "cell_type": "code",
   "execution_count": 24,
   "metadata": {},
   "outputs": [
    {
     "data": {
      "text/plain": [
       "array(['Perch', 'Smelt', 'Pike', 'Roach', 'Perch', 'Bream', 'Smelt',\n",
       "       'Roach', 'Perch', 'Pike', 'Bream', 'Perch', 'Bream', 'Parkki',\n",
       "       'Bream', 'Bream', 'Perch', 'Perch', 'Perch', 'Bream', 'Smelt',\n",
       "       'Bream', 'Bream', 'Bream', 'Bream', 'Perch', 'Perch', 'Roach',\n",
       "       'Smelt', 'Smelt', 'Pike', 'Perch', 'Perch', 'Pike', 'Bream',\n",
       "       'Perch', 'Roach', 'Roach', 'Parkki', 'Perch'], dtype=object)"
      ]
     },
     "execution_count": 24,
     "metadata": {},
     "output_type": "execute_result"
    }
   ],
   "source": [
    "lr.predict(test_scaled)"
   ]
  },
  {
   "cell_type": "code",
   "execution_count": 28,
   "metadata": {},
   "outputs": [
    {
     "data": {
      "text/plain": [
       "array([[0.   , 0.014, 0.842, 0.   , 0.135, 0.007, 0.003],\n",
       "       [0.   , 0.003, 0.044, 0.   , 0.007, 0.946, 0.   ],\n",
       "       [0.   , 0.   , 0.034, 0.934, 0.015, 0.016, 0.   ],\n",
       "       [0.011, 0.034, 0.305, 0.006, 0.567, 0.   , 0.076],\n",
       "       [0.   , 0.   , 0.904, 0.002, 0.089, 0.002, 0.001],\n",
       "       [0.999, 0.   , 0.   , 0.   , 0.   , 0.   , 0.   ],\n",
       "       [0.   , 0.001, 0.05 , 0.   , 0.004, 0.945, 0.   ],\n",
       "       [0.001, 0.007, 0.319, 0.014, 0.639, 0.001, 0.018],\n",
       "       [0.   , 0.002, 0.803, 0.002, 0.181, 0.   , 0.011],\n",
       "       [0.   , 0.   , 0.022, 0.978, 0.   , 0.   , 0.   ],\n",
       "       [0.984, 0.003, 0.   , 0.   , 0.001, 0.   , 0.013],\n",
       "       [0.047, 0.   , 0.817, 0.008, 0.002, 0.   , 0.126],\n",
       "       [0.992, 0.005, 0.   , 0.   , 0.   , 0.   , 0.003],\n",
       "       [0.007, 0.907, 0.002, 0.   , 0.076, 0.   , 0.009],\n",
       "       [0.999, 0.001, 0.   , 0.   , 0.   , 0.   , 0.   ],\n",
       "       [1.   , 0.   , 0.   , 0.   , 0.   , 0.   , 0.   ],\n",
       "       [0.001, 0.   , 0.936, 0.   , 0.   , 0.   , 0.063],\n",
       "       [0.001, 0.003, 0.784, 0.009, 0.19 , 0.   , 0.014],\n",
       "       [0.001, 0.035, 0.675, 0.004, 0.263, 0.001, 0.021],\n",
       "       [0.991, 0.005, 0.   , 0.   , 0.   , 0.   , 0.003],\n",
       "       [0.   , 0.002, 0.049, 0.   , 0.008, 0.941, 0.   ],\n",
       "       [0.997, 0.002, 0.   , 0.   , 0.   , 0.   , 0.   ],\n",
       "       [0.984, 0.015, 0.   , 0.   , 0.   , 0.   , 0.001],\n",
       "       [0.985, 0.012, 0.   , 0.   , 0.001, 0.   , 0.002],\n",
       "       [1.   , 0.   , 0.   , 0.   , 0.   , 0.   , 0.   ],\n",
       "       [0.001, 0.   , 0.971, 0.001, 0.   , 0.   , 0.027],\n",
       "       [0.   , 0.004, 0.794, 0.003, 0.191, 0.001, 0.006],\n",
       "       [0.007, 0.016, 0.35 , 0.011, 0.559, 0.   , 0.056],\n",
       "       [0.   , 0.002, 0.042, 0.   , 0.004, 0.952, 0.   ],\n",
       "       [0.   , 0.002, 0.028, 0.   , 0.005, 0.965, 0.   ],\n",
       "       [0.   , 0.   , 0.002, 0.998, 0.   , 0.   , 0.   ],\n",
       "       [0.   , 0.008, 0.837, 0.   , 0.138, 0.015, 0.001],\n",
       "       [0.   , 0.039, 0.722, 0.   , 0.191, 0.046, 0.002],\n",
       "       [0.   , 0.   , 0.001, 0.999, 0.   , 0.   , 0.   ],\n",
       "       [0.737, 0.2  , 0.   , 0.   , 0.026, 0.   , 0.037],\n",
       "       [0.   , 0.016, 0.624, 0.003, 0.345, 0.005, 0.007],\n",
       "       [0.001, 0.023, 0.247, 0.002, 0.703, 0.001, 0.024],\n",
       "       [0.   , 0.024, 0.266, 0.003, 0.691, 0.007, 0.008],\n",
       "       [0.025, 0.945, 0.   , 0.   , 0.027, 0.   , 0.003],\n",
       "       [0.013, 0.   , 0.704, 0.   , 0.002, 0.   , 0.281]])"
      ]
     },
     "execution_count": 28,
     "metadata": {},
     "output_type": "execute_result"
    }
   ],
   "source": [
    "# 샘플에 대한 예측 확률\n",
    "proba = lr.predict_proba(test_scaled)\n",
    "np.round(proba, decimals = 3)"
   ]
  },
  {
   "cell_type": "markdown",
   "metadata": {},
   "source": [
    "- 위의 결과는 모든 Species에 대한 예측 확률\n",
    "- 한 행당 높은 확률에 해당하는 species(열)일 가능성이 높음"
   ]
  },
  {
   "cell_type": "code",
   "execution_count": 29,
   "metadata": {},
   "outputs": [
    {
     "data": {
      "text/plain": [
       "array(['Bream', 'Parkki', 'Perch', 'Pike', 'Roach', 'Smelt', 'Whitefish'],\n",
       "      dtype=object)"
      ]
     },
     "execution_count": 29,
     "metadata": {},
     "output_type": "execute_result"
    }
   ],
   "source": [
    "lr.classes_"
   ]
  },
  {
   "cell_type": "code",
   "execution_count": 31,
   "metadata": {},
   "outputs": [
    {
     "name": "stdout",
     "output_type": "stream",
     "text": [
      "(7, 5) (7,)\n"
     ]
    }
   ],
   "source": [
    "print(lr.coef_.shape, lr.intercept_.shape)"
   ]
  },
  {
   "cell_type": "markdown",
   "metadata": {},
   "source": [
    "- (7, 5)\n",
    "    - 각 클래스에 대한 feature의 가중치\n",
    "    - 7 : 클래스 개수\n",
    "    - 5 : 각 클래스에 대해 5개의 특성feature를 가졌다는 의미\n",
    "        - 입력 데이터가 5개의 특성을 가지고 있음\n",
    "- (7, )\n",
    "    - 각 클래스에 대한 절편\n",
    "    - 7개의 클래스 각각에 대해 하나의 절편을 가짐\n",
    "    - 7개의 절편 값을 가진 1차원 배열"
   ]
  },
  {
   "cell_type": "code",
   "execution_count": 32,
   "metadata": {},
   "outputs": [
    {
     "data": {
      "text/plain": [
       "array([[-6.510e+00,  1.040e+00,  5.170e+00, -2.760e+00,  3.340e+00,\n",
       "         3.500e-01, -6.300e-01],\n",
       "       [-1.088e+01,  1.940e+00,  4.780e+00, -2.420e+00,  2.990e+00,\n",
       "         7.840e+00, -4.250e+00],\n",
       "       [-4.340e+00, -6.240e+00,  3.170e+00,  6.480e+00,  2.360e+00,\n",
       "         2.430e+00, -3.870e+00],\n",
       "       [-6.900e-01,  4.500e-01,  2.640e+00, -1.210e+00,  3.260e+00,\n",
       "        -5.700e+00,  1.260e+00],\n",
       "       [-6.400e+00, -1.990e+00,  5.820e+00, -1.300e-01,  3.500e+00,\n",
       "        -9.000e-02, -7.000e-01],\n",
       "       [ 1.669e+01,  8.310e+00, -3.350e+00, -4.950e+00,  8.500e-01,\n",
       "        -2.634e+01,  8.790e+00],\n",
       "       [-1.235e+01,  1.920e+00,  5.760e+00, -2.920e+00,  3.180e+00,\n",
       "         8.690e+00, -4.280e+00],\n",
       "       [-2.620e+00, -8.500e-01,  2.900e+00, -2.100e-01,  3.600e+00,\n",
       "        -2.850e+00,  2.000e-02],\n",
       "       [-3.840e+00, -1.060e+00,  4.990e+00, -9.600e-01,  3.500e+00,\n",
       "        -3.370e+00,  7.400e-01],\n",
       "       [ 1.670e+00, -1.450e+01,  1.047e+01,  1.424e+01, -9.300e-01,\n",
       "        -1.205e+01,  1.110e+00],\n",
       "       [ 9.740e+00,  3.930e+00, -1.710e+00, -2.410e+00,  2.420e+00,\n",
       "        -1.737e+01,  5.400e+00],\n",
       "       [ 4.110e+00, -3.060e+00,  6.970e+00,  2.360e+00,  8.800e-01,\n",
       "        -1.637e+01,  5.110e+00],\n",
       "       [ 1.170e+01,  6.410e+00, -3.710e+00, -4.120e+00,  2.420e+00,\n",
       "        -1.852e+01,  5.830e+00],\n",
       "       [ 6.400e-01,  5.570e+00, -4.100e-01, -4.800e+00,  3.090e+00,\n",
       "        -5.000e+00,  9.200e-01],\n",
       "       [ 1.325e+01,  6.090e+00, -4.480e+00, -2.740e+00,  1.660e+00,\n",
       "        -1.923e+01,  5.440e+00],\n",
       "       [ 1.569e+01,  6.370e+00, -3.750e+00, -2.770e+00,  8.700e-01,\n",
       "        -2.357e+01,  7.150e+00],\n",
       "       [ 3.640e+00, -6.110e+00,  1.060e+01,  2.440e+00,  1.800e+00,\n",
       "        -2.027e+01,  7.900e+00],\n",
       "       [-2.910e+00, -1.270e+00,  4.420e+00, -7.000e-02,  3.000e+00,\n",
       "        -3.550e+00,  3.700e-01],\n",
       "       [-2.720e+00,  7.500e-01,  3.700e+00, -1.440e+00,  2.750e+00,\n",
       "        -3.270e+00,  2.300e-01],\n",
       "       [ 1.054e+01,  5.340e+00, -2.790e+00, -2.610e+00,  1.750e+00,\n",
       "        -1.703e+01,  4.790e+00],\n",
       "       [-1.132e+01,  1.820e+00,  5.020e+00, -2.580e+00,  3.220e+00,\n",
       "         7.990e+00, -4.150e+00],\n",
       "       [ 1.252e+01,  6.530e+00, -5.060e+00, -2.830e+00,  1.620e+00,\n",
       "        -1.726e+01,  4.480e+00],\n",
       "       [ 9.680e+00,  5.490e+00, -4.840e+00, -1.730e+00,  1.730e+00,\n",
       "        -1.272e+01,  2.390e+00],\n",
       "       [ 1.017e+01,  5.740e+00, -4.460e+00, -3.120e+00,  2.660e+00,\n",
       "        -1.509e+01,  4.110e+00],\n",
       "       [ 1.562e+01,  6.520e+00, -3.420e+00, -2.840e+00,  6.600e-01,\n",
       "        -2.374e+01,  7.210e+00],\n",
       "       [ 3.500e+00, -5.060e+00,  1.012e+01,  2.930e+00,  6.600e-01,\n",
       "        -1.870e+01,  6.550e+00],\n",
       "       [-4.490e+00, -6.600e-01,  4.670e+00, -8.500e-01,  3.250e+00,\n",
       "        -1.780e+00, -1.400e-01],\n",
       "       [-1.050e+00, -2.200e-01,  2.830e+00, -6.300e-01,  3.300e+00,\n",
       "        -5.230e+00,  1.000e+00],\n",
       "       [-1.236e+01,  2.480e+00,  5.630e+00, -3.370e+00,  3.160e+00,\n",
       "         8.740e+00, -4.270e+00],\n",
       "       [-1.123e+01,  1.970e+00,  4.750e+00, -2.460e+00,  3.090e+00,\n",
       "         8.300e+00, -4.410e+00],\n",
       "       [-2.610e+00, -1.081e+01,  5.160e+00,  1.121e+01,  1.170e+00,\n",
       "        -6.900e-01, -3.430e+00],\n",
       "       [-7.580e+00,  8.200e-01,  5.430e+00, -2.760e+00,  3.620e+00,\n",
       "         1.430e+00, -9.500e-01],\n",
       "       [-7.450e+00,  1.840e+00,  4.760e+00, -3.280e+00,  3.440e+00,\n",
       "         2.000e+00, -1.320e+00],\n",
       "       [-9.300e-01, -1.144e+01,  5.030e+00,  1.217e+01,  6.700e-01,\n",
       "        -2.480e+00, -3.020e+00],\n",
       "       [ 6.780e+00,  5.470e+00, -2.780e+00, -4.300e+00,  3.450e+00,\n",
       "        -1.240e+01,  3.780e+00],\n",
       "       [-4.550e+00,  2.100e-01,  3.890e+00, -1.370e+00,  3.290e+00,\n",
       "        -8.900e-01, -5.700e-01],\n",
       "       [-2.910e+00,  5.200e-01,  2.900e+00, -1.860e+00,  3.940e+00,\n",
       "        -3.160e+00,  5.700e-01],\n",
       "       [-4.320e+00,  4.700e-01,  2.870e+00, -1.520e+00,  3.830e+00,\n",
       "        -7.100e-01, -6.200e-01],\n",
       "       [ 2.600e+00,  6.250e+00, -2.340e+00, -4.320e+00,  2.700e+00,\n",
       "        -5.380e+00,  5.000e-01],\n",
       "       [ 4.020e+00, -3.130e+00,  8.000e+00,  3.700e-01,  2.070e+00,\n",
       "        -1.842e+01,  7.090e+00]])"
      ]
     },
     "execution_count": 32,
     "metadata": {},
     "output_type": "execute_result"
    }
   ],
   "source": [
    "# 로지스틱 회귀 모델이 각 클래스에 대해 결정 함수 값을 반환\n",
    "# \n",
    "decision = lr.decision_function(test_scaled)\n",
    "np.round(decision, decimals=2)"
   ]
  },
  {
   "cell_type": "markdown",
   "metadata": {},
   "source": [
    "## softmax function\n",
    "- 입력 값들을 확률 분포로 변화하여 각 클래스에 대한 확률로 반환\n",
    "- 여러 개의 선형 방정식의 출력값을 0~1 사이로 압축하고 전체 합이 1이 되도록 함\n",
    "- 지수 함수 사용\n",
    "    - 모든 값을 양수로 만들고, 값 사이의 상대적인 차이 강조\n",
    "- 정규화\n",
    "    - 지수 함수 결과를 모두 더한 값으로 나눔\n",
    "    - 출력 값이 1이 되도록 하기 위함"
   ]
  },
  {
   "cell_type": "code",
   "execution_count": 33,
   "metadata": {},
   "outputs": [
    {
     "name": "stdout",
     "output_type": "stream",
     "text": [
      "[[0.    0.014 0.842 0.    0.135 0.007 0.003]\n",
      " [0.    0.003 0.044 0.    0.007 0.946 0.   ]\n",
      " [0.    0.    0.034 0.934 0.015 0.016 0.   ]\n",
      " [0.011 0.034 0.305 0.006 0.567 0.    0.076]\n",
      " [0.    0.    0.904 0.002 0.089 0.002 0.001]\n",
      " [0.999 0.    0.    0.    0.    0.    0.   ]\n",
      " [0.    0.001 0.05  0.    0.004 0.945 0.   ]\n",
      " [0.001 0.007 0.319 0.014 0.639 0.001 0.018]\n",
      " [0.    0.002 0.803 0.002 0.181 0.    0.011]\n",
      " [0.    0.    0.022 0.978 0.    0.    0.   ]\n",
      " [0.984 0.003 0.    0.    0.001 0.    0.013]\n",
      " [0.047 0.    0.817 0.008 0.002 0.    0.126]\n",
      " [0.992 0.005 0.    0.    0.    0.    0.003]\n",
      " [0.007 0.907 0.002 0.    0.076 0.    0.009]\n",
      " [0.999 0.001 0.    0.    0.    0.    0.   ]\n",
      " [1.    0.    0.    0.    0.    0.    0.   ]\n",
      " [0.001 0.    0.936 0.    0.    0.    0.063]\n",
      " [0.001 0.003 0.784 0.009 0.19  0.    0.014]\n",
      " [0.001 0.035 0.675 0.004 0.263 0.001 0.021]\n",
      " [0.991 0.005 0.    0.    0.    0.    0.003]\n",
      " [0.    0.002 0.049 0.    0.008 0.941 0.   ]\n",
      " [0.997 0.002 0.    0.    0.    0.    0.   ]\n",
      " [0.984 0.015 0.    0.    0.    0.    0.001]\n",
      " [0.985 0.012 0.    0.    0.001 0.    0.002]\n",
      " [1.    0.    0.    0.    0.    0.    0.   ]\n",
      " [0.001 0.    0.971 0.001 0.    0.    0.027]\n",
      " [0.    0.004 0.794 0.003 0.191 0.001 0.006]\n",
      " [0.007 0.016 0.35  0.011 0.559 0.    0.056]\n",
      " [0.    0.002 0.042 0.    0.004 0.952 0.   ]\n",
      " [0.    0.002 0.028 0.    0.005 0.965 0.   ]\n",
      " [0.    0.    0.002 0.998 0.    0.    0.   ]\n",
      " [0.    0.008 0.837 0.    0.138 0.015 0.001]\n",
      " [0.    0.039 0.722 0.    0.191 0.046 0.002]\n",
      " [0.    0.    0.001 0.999 0.    0.    0.   ]\n",
      " [0.737 0.2   0.    0.    0.026 0.    0.037]\n",
      " [0.    0.016 0.624 0.003 0.345 0.005 0.007]\n",
      " [0.001 0.023 0.247 0.002 0.703 0.001 0.024]\n",
      " [0.    0.024 0.266 0.003 0.691 0.007 0.008]\n",
      " [0.025 0.945 0.    0.    0.027 0.    0.003]\n",
      " [0.013 0.    0.704 0.    0.002 0.    0.281]]\n"
     ]
    }
   ],
   "source": [
    "from scipy.special import softmax\n",
    "# softmax의 axis를 이용해 소프트맥스를 계산할 축을 지정\n",
    "# 앞수 구한 proba랑 결과 동일\n",
    "proba = softmax(decision, axis = 1)\n",
    "print(np.round(proba, decimals=3))"
   ]
  },
  {
   "cell_type": "markdown",
   "metadata": {},
   "source": [
    "### 결과\n",
    "## 로지스틱 회귀로 확률 예측\n",
    "- 예측과 예측의 근거가 되는 확률을 출력\n",
    "- 회귀 모델이 아닌 분류 모델\n",
    "- 선형 회귀처럼 선형 방정식 사용\n",
    "- 계산한 값을 0~11 사이로 압축\n",
    "    - 이 값은 0~100% 사이의 확률로 이해\n",
    "# 이진 분류\n",
    "- 하나의 선형 방정식 훈련\n",
    "- 출력값을 시그모이드 함수에 통과시켜 0~1 사이값 만듬\n",
    "    - 양성 클래스에 대한 확률\n",
    "    - 음성 클래스 확률 = 1 - 양성 클래스 확률\n",
    "# 다중 분류\n",
    "- 클래스 개수만큼 방정식 훈련\n",
    "- 출력값을 소프트맥스 함수를 통과시켜 전체 클래스에 대한 합이 항상 1이 되도록 함"
   ]
  },
  {
   "cell_type": "code",
   "execution_count": null,
   "metadata": {},
   "outputs": [],
   "source": []
  }
 ],
 "metadata": {
  "kernelspec": {
   "display_name": "Python 3",
   "language": "python",
   "name": "python3"
  },
  "language_info": {
   "codemirror_mode": {
    "name": "ipython",
    "version": 3
   },
   "file_extension": ".py",
   "mimetype": "text/x-python",
   "name": "python",
   "nbconvert_exporter": "python",
   "pygments_lexer": "ipython3",
   "version": "3.12.1"
  }
 },
 "nbformat": 4,
 "nbformat_minor": 2
}
